{
 "cells": [
  {
   "cell_type": "markdown",
   "metadata": {},
   "source": [
    "# Preparing for a Successful Launch: Insights from Chicago's Taxi Data\n",
    "## Introduction\n",
    "As Zuber prepares to launch in the Chicago area, our company needs to be able to anticipate passenger preferences and the impact of weather on trips to leverage our resources effectively in a competitive market.  This project will examine data on existing cab companies, the trips they provide, and the neighborhoods they service, in correlation with the weather at the time of the trips to uncover patterns and insights about passenger preferences that will help Zuber achieve success in the Chicago market.  In particular, I will examine the impact of weather of ride demand so that Zuber can optimize operations and position itself to achieve superior customer satisfaction.\n",
    "\n",
    "This project will require loading, cleaning, and preparing the data sets, performing exploratory data analysis and creating visuals to support the information this analysis yields, and hypothesis testing.  The results of this analysis can then be used to inform Zuber's marketing strategies, pricing models, and leveraging of resources to position the company to meet the needs of Chicago's ride-share users."
   ]
  },
  {
   "cell_type": "code",
   "execution_count": 2,
   "metadata": {},
   "outputs": [],
   "source": [
    "# Importing Libraries\n",
    "import pandas as pd\n",
    "import matplotlib.pyplot as plt\n",
    "import numpy as np\n",
    "from scipy import stats as st"
   ]
  },
  {
   "cell_type": "code",
   "execution_count": 5,
   "metadata": {},
   "outputs": [],
   "source": [
    "# Importing Data\n",
    "cos_trips = pd.read_csv('https://practicum-content.s3.us-west-1.amazonaws.com/learning-materials/data-analyst-eng/moved_project_sql_result_01.csv')\n",
    "drop_avg = pd.read_csv('https://practicum-content.s3.us-west-1.amazonaws.com/learning-materials/data-analyst-eng/moved_project_sql_result_04.csv')\n",
    "loop2ohare = pd.read_csv('https://practicum-content.s3.us-west-1.amazonaws.com/learning-materials/data-analyst-eng/moved_project_sql_result_07.csv', parse_dates=['start_ts'])"
   ]
  },
  {
   "cell_type": "code",
   "execution_count": 3,
   "metadata": {},
   "outputs": [
    {
     "data": {
      "text/html": [
       "<div>\n",
       "<style scoped>\n",
       "    .dataframe tbody tr th:only-of-type {\n",
       "        vertical-align: middle;\n",
       "    }\n",
       "\n",
       "    .dataframe tbody tr th {\n",
       "        vertical-align: top;\n",
       "    }\n",
       "\n",
       "    .dataframe thead th {\n",
       "        text-align: right;\n",
       "    }\n",
       "</style>\n",
       "<table border=\"1\" class=\"dataframe\">\n",
       "  <thead>\n",
       "    <tr style=\"text-align: right;\">\n",
       "      <th></th>\n",
       "      <th>company_name</th>\n",
       "      <th>trips_amount</th>\n",
       "    </tr>\n",
       "  </thead>\n",
       "  <tbody>\n",
       "    <tr>\n",
       "      <th>0</th>\n",
       "      <td>Flash Cab</td>\n",
       "      <td>19558</td>\n",
       "    </tr>\n",
       "    <tr>\n",
       "      <th>1</th>\n",
       "      <td>Taxi Affiliation Services</td>\n",
       "      <td>11422</td>\n",
       "    </tr>\n",
       "    <tr>\n",
       "      <th>2</th>\n",
       "      <td>Medallion Leasin</td>\n",
       "      <td>10367</td>\n",
       "    </tr>\n",
       "    <tr>\n",
       "      <th>3</th>\n",
       "      <td>Yellow Cab</td>\n",
       "      <td>9888</td>\n",
       "    </tr>\n",
       "    <tr>\n",
       "      <th>4</th>\n",
       "      <td>Taxi Affiliation Service Yellow</td>\n",
       "      <td>9299</td>\n",
       "    </tr>\n",
       "    <tr>\n",
       "      <th>...</th>\n",
       "      <td>...</td>\n",
       "      <td>...</td>\n",
       "    </tr>\n",
       "    <tr>\n",
       "      <th>59</th>\n",
       "      <td>4053 - 40193 Adwar H. Nikola</td>\n",
       "      <td>7</td>\n",
       "    </tr>\n",
       "    <tr>\n",
       "      <th>60</th>\n",
       "      <td>2733 - 74600 Benny Jona</td>\n",
       "      <td>7</td>\n",
       "    </tr>\n",
       "    <tr>\n",
       "      <th>61</th>\n",
       "      <td>5874 - 73628 Sergey Cab Corp.</td>\n",
       "      <td>5</td>\n",
       "    </tr>\n",
       "    <tr>\n",
       "      <th>62</th>\n",
       "      <td>2241 - 44667 - Felman Corp, Manuel Alonso</td>\n",
       "      <td>3</td>\n",
       "    </tr>\n",
       "    <tr>\n",
       "      <th>63</th>\n",
       "      <td>3556 - 36214 RC Andrews Cab</td>\n",
       "      <td>2</td>\n",
       "    </tr>\n",
       "  </tbody>\n",
       "</table>\n",
       "<p>64 rows × 2 columns</p>\n",
       "</div>"
      ],
      "text/plain": [
       "                                 company_name  trips_amount\n",
       "0                                   Flash Cab         19558\n",
       "1                   Taxi Affiliation Services         11422\n",
       "2                            Medallion Leasin         10367\n",
       "3                                  Yellow Cab          9888\n",
       "4             Taxi Affiliation Service Yellow          9299\n",
       "..                                        ...           ...\n",
       "59               4053 - 40193 Adwar H. Nikola             7\n",
       "60                    2733 - 74600 Benny Jona             7\n",
       "61              5874 - 73628 Sergey Cab Corp.             5\n",
       "62  2241 - 44667 - Felman Corp, Manuel Alonso             3\n",
       "63                3556 - 36214 RC Andrews Cab             2\n",
       "\n",
       "[64 rows x 2 columns]"
      ]
     },
     "execution_count": 3,
     "metadata": {},
     "output_type": "execute_result"
    }
   ],
   "source": [
    "cos_trips"
   ]
  },
  {
   "cell_type": "code",
   "execution_count": 4,
   "metadata": {},
   "outputs": [
    {
     "name": "stdout",
     "output_type": "stream",
     "text": [
      "<class 'pandas.core.frame.DataFrame'>\n",
      "RangeIndex: 64 entries, 0 to 63\n",
      "Data columns (total 2 columns):\n",
      " #   Column        Non-Null Count  Dtype \n",
      "---  ------        --------------  ----- \n",
      " 0   company_name  64 non-null     object\n",
      " 1   trips_amount  64 non-null     int64 \n",
      "dtypes: int64(1), object(1)\n",
      "memory usage: 1.1+ KB\n"
     ]
    }
   ],
   "source": [
    "cos_trips.info()"
   ]
  },
  {
   "cell_type": "code",
   "execution_count": 5,
   "metadata": {},
   "outputs": [
    {
     "data": {
      "text/html": [
       "<div>\n",
       "<style scoped>\n",
       "    .dataframe tbody tr th:only-of-type {\n",
       "        vertical-align: middle;\n",
       "    }\n",
       "\n",
       "    .dataframe tbody tr th {\n",
       "        vertical-align: top;\n",
       "    }\n",
       "\n",
       "    .dataframe thead th {\n",
       "        text-align: right;\n",
       "    }\n",
       "</style>\n",
       "<table border=\"1\" class=\"dataframe\">\n",
       "  <thead>\n",
       "    <tr style=\"text-align: right;\">\n",
       "      <th></th>\n",
       "      <th>dropoff_location_name</th>\n",
       "      <th>average_trips</th>\n",
       "    </tr>\n",
       "  </thead>\n",
       "  <tbody>\n",
       "    <tr>\n",
       "      <th>0</th>\n",
       "      <td>Loop</td>\n",
       "      <td>10727.466667</td>\n",
       "    </tr>\n",
       "    <tr>\n",
       "      <th>1</th>\n",
       "      <td>River North</td>\n",
       "      <td>9523.666667</td>\n",
       "    </tr>\n",
       "    <tr>\n",
       "      <th>2</th>\n",
       "      <td>Streeterville</td>\n",
       "      <td>6664.666667</td>\n",
       "    </tr>\n",
       "    <tr>\n",
       "      <th>3</th>\n",
       "      <td>West Loop</td>\n",
       "      <td>5163.666667</td>\n",
       "    </tr>\n",
       "    <tr>\n",
       "      <th>4</th>\n",
       "      <td>O'Hare</td>\n",
       "      <td>2546.900000</td>\n",
       "    </tr>\n",
       "    <tr>\n",
       "      <th>...</th>\n",
       "      <td>...</td>\n",
       "      <td>...</td>\n",
       "    </tr>\n",
       "    <tr>\n",
       "      <th>89</th>\n",
       "      <td>Mount Greenwood</td>\n",
       "      <td>3.137931</td>\n",
       "    </tr>\n",
       "    <tr>\n",
       "      <th>90</th>\n",
       "      <td>Hegewisch</td>\n",
       "      <td>3.117647</td>\n",
       "    </tr>\n",
       "    <tr>\n",
       "      <th>91</th>\n",
       "      <td>Burnside</td>\n",
       "      <td>2.333333</td>\n",
       "    </tr>\n",
       "    <tr>\n",
       "      <th>92</th>\n",
       "      <td>East Side</td>\n",
       "      <td>1.961538</td>\n",
       "    </tr>\n",
       "    <tr>\n",
       "      <th>93</th>\n",
       "      <td>Riverdale</td>\n",
       "      <td>1.800000</td>\n",
       "    </tr>\n",
       "  </tbody>\n",
       "</table>\n",
       "<p>94 rows × 2 columns</p>\n",
       "</div>"
      ],
      "text/plain": [
       "   dropoff_location_name  average_trips\n",
       "0                   Loop   10727.466667\n",
       "1            River North    9523.666667\n",
       "2          Streeterville    6664.666667\n",
       "3              West Loop    5163.666667\n",
       "4                 O'Hare    2546.900000\n",
       "..                   ...            ...\n",
       "89       Mount Greenwood       3.137931\n",
       "90             Hegewisch       3.117647\n",
       "91              Burnside       2.333333\n",
       "92             East Side       1.961538\n",
       "93             Riverdale       1.800000\n",
       "\n",
       "[94 rows x 2 columns]"
      ]
     },
     "execution_count": 5,
     "metadata": {},
     "output_type": "execute_result"
    }
   ],
   "source": [
    "drop_avg"
   ]
  },
  {
   "cell_type": "code",
   "execution_count": 6,
   "metadata": {},
   "outputs": [
    {
     "name": "stdout",
     "output_type": "stream",
     "text": [
      "<class 'pandas.core.frame.DataFrame'>\n",
      "RangeIndex: 94 entries, 0 to 93\n",
      "Data columns (total 2 columns):\n",
      " #   Column                 Non-Null Count  Dtype  \n",
      "---  ------                 --------------  -----  \n",
      " 0   dropoff_location_name  94 non-null     object \n",
      " 1   average_trips          94 non-null     float64\n",
      "dtypes: float64(1), object(1)\n",
      "memory usage: 1.6+ KB\n"
     ]
    }
   ],
   "source": [
    "drop_avg.info()"
   ]
  },
  {
   "cell_type": "code",
   "execution_count": 6,
   "metadata": {},
   "outputs": [
    {
     "data": {
      "text/html": [
       "<div>\n",
       "<style scoped>\n",
       "    .dataframe tbody tr th:only-of-type {\n",
       "        vertical-align: middle;\n",
       "    }\n",
       "\n",
       "    .dataframe tbody tr th {\n",
       "        vertical-align: top;\n",
       "    }\n",
       "\n",
       "    .dataframe thead th {\n",
       "        text-align: right;\n",
       "    }\n",
       "</style>\n",
       "<table border=\"1\" class=\"dataframe\">\n",
       "  <thead>\n",
       "    <tr style=\"text-align: right;\">\n",
       "      <th></th>\n",
       "      <th>start_ts</th>\n",
       "      <th>weather_conditions</th>\n",
       "      <th>duration_seconds</th>\n",
       "    </tr>\n",
       "  </thead>\n",
       "  <tbody>\n",
       "    <tr>\n",
       "      <th>0</th>\n",
       "      <td>2017-11-25 16:00:00</td>\n",
       "      <td>Good</td>\n",
       "      <td>2410.0</td>\n",
       "    </tr>\n",
       "    <tr>\n",
       "      <th>1</th>\n",
       "      <td>2017-11-25 14:00:00</td>\n",
       "      <td>Good</td>\n",
       "      <td>1920.0</td>\n",
       "    </tr>\n",
       "    <tr>\n",
       "      <th>2</th>\n",
       "      <td>2017-11-25 12:00:00</td>\n",
       "      <td>Good</td>\n",
       "      <td>1543.0</td>\n",
       "    </tr>\n",
       "    <tr>\n",
       "      <th>3</th>\n",
       "      <td>2017-11-04 10:00:00</td>\n",
       "      <td>Good</td>\n",
       "      <td>2512.0</td>\n",
       "    </tr>\n",
       "    <tr>\n",
       "      <th>4</th>\n",
       "      <td>2017-11-11 07:00:00</td>\n",
       "      <td>Good</td>\n",
       "      <td>1440.0</td>\n",
       "    </tr>\n",
       "    <tr>\n",
       "      <th>...</th>\n",
       "      <td>...</td>\n",
       "      <td>...</td>\n",
       "      <td>...</td>\n",
       "    </tr>\n",
       "    <tr>\n",
       "      <th>1063</th>\n",
       "      <td>2017-11-25 11:00:00</td>\n",
       "      <td>Good</td>\n",
       "      <td>0.0</td>\n",
       "    </tr>\n",
       "    <tr>\n",
       "      <th>1064</th>\n",
       "      <td>2017-11-11 10:00:00</td>\n",
       "      <td>Good</td>\n",
       "      <td>1318.0</td>\n",
       "    </tr>\n",
       "    <tr>\n",
       "      <th>1065</th>\n",
       "      <td>2017-11-11 13:00:00</td>\n",
       "      <td>Good</td>\n",
       "      <td>2100.0</td>\n",
       "    </tr>\n",
       "    <tr>\n",
       "      <th>1066</th>\n",
       "      <td>2017-11-11 08:00:00</td>\n",
       "      <td>Good</td>\n",
       "      <td>1380.0</td>\n",
       "    </tr>\n",
       "    <tr>\n",
       "      <th>1067</th>\n",
       "      <td>2017-11-04 16:00:00</td>\n",
       "      <td>Bad</td>\n",
       "      <td>2834.0</td>\n",
       "    </tr>\n",
       "  </tbody>\n",
       "</table>\n",
       "<p>1068 rows × 3 columns</p>\n",
       "</div>"
      ],
      "text/plain": [
       "                start_ts weather_conditions  duration_seconds\n",
       "0    2017-11-25 16:00:00               Good            2410.0\n",
       "1    2017-11-25 14:00:00               Good            1920.0\n",
       "2    2017-11-25 12:00:00               Good            1543.0\n",
       "3    2017-11-04 10:00:00               Good            2512.0\n",
       "4    2017-11-11 07:00:00               Good            1440.0\n",
       "...                  ...                ...               ...\n",
       "1063 2017-11-25 11:00:00               Good               0.0\n",
       "1064 2017-11-11 10:00:00               Good            1318.0\n",
       "1065 2017-11-11 13:00:00               Good            2100.0\n",
       "1066 2017-11-11 08:00:00               Good            1380.0\n",
       "1067 2017-11-04 16:00:00                Bad            2834.0\n",
       "\n",
       "[1068 rows x 3 columns]"
      ]
     },
     "execution_count": 6,
     "metadata": {},
     "output_type": "execute_result"
    }
   ],
   "source": [
    "loop2ohare"
   ]
  },
  {
   "cell_type": "code",
   "execution_count": 7,
   "metadata": {},
   "outputs": [
    {
     "name": "stdout",
     "output_type": "stream",
     "text": [
      "<class 'pandas.core.frame.DataFrame'>\n",
      "RangeIndex: 1068 entries, 0 to 1067\n",
      "Data columns (total 3 columns):\n",
      " #   Column              Non-Null Count  Dtype         \n",
      "---  ------              --------------  -----         \n",
      " 0   start_ts            1068 non-null   datetime64[ns]\n",
      " 1   weather_conditions  1068 non-null   object        \n",
      " 2   duration_seconds    1068 non-null   float64       \n",
      "dtypes: datetime64[ns](1), float64(1), object(1)\n",
      "memory usage: 25.2+ KB\n"
     ]
    }
   ],
   "source": [
    "loop2ohare.info()"
   ]
  },
  {
   "cell_type": "markdown",
   "metadata": {},
   "source": [
    "Upon loading the datasets, we can see that we have access to data for 64 companies providing between 2 and nearly 20k trips on November 15-16, 2017 in the cos_trips dataframe.  We have data for 94 neighborhoods, averaging between 1 and over 10k dropoffs in the month of November in the drop_avg dataframe.  Additionally, we have data for ride starttime, duration, weather conditions for 1068 rides from Loop to O'Hare on Saturdays in November to allow us to test the hypothesis that weather conditions impact ride duration.  All data appears to be intact with no null values across the data sets, though there appear to be some 0 second rides in the loop2ohare dataset that should be dropped.  Helpfully, the data for cos_trips and drop_avg is already sorted in descending order.  Data types are sensible for the data they represent.  Before proceeding, I will verify that there are no duplicate rows in the dataframes."
   ]
  },
  {
   "cell_type": "code",
   "execution_count": 10,
   "metadata": {},
   "outputs": [
    {
     "name": "stdout",
     "output_type": "stream",
     "text": [
      "<class 'pandas.core.frame.DataFrame'>\n",
      "Int64Index: 1062 entries, 0 to 1067\n",
      "Data columns (total 3 columns):\n",
      " #   Column              Non-Null Count  Dtype         \n",
      "---  ------              --------------  -----         \n",
      " 0   start_ts            1062 non-null   datetime64[ns]\n",
      " 1   weather_conditions  1062 non-null   object        \n",
      " 2   duration_seconds    1062 non-null   float64       \n",
      "dtypes: datetime64[ns](1), float64(1), object(1)\n",
      "memory usage: 33.2+ KB\n"
     ]
    }
   ],
   "source": [
    "# Dropping 0 second rides in loop2ohare\n",
    "\n",
    "loop2ohare = loop2ohare.drop(loop2ohare[loop2ohare['duration_seconds'] == 0.0].index)\n",
    "loop2ohare.info()"
   ]
  },
  {
   "cell_type": "markdown",
   "metadata": {},
   "source": [
    "There were six 0 second rides that have now been removed."
   ]
  },
  {
   "cell_type": "code",
   "execution_count": 8,
   "metadata": {},
   "outputs": [
    {
     "data": {
      "text/plain": [
       "0"
      ]
     },
     "execution_count": 8,
     "metadata": {},
     "output_type": "execute_result"
    }
   ],
   "source": [
    "# Checking for Explicit Duplicates\n",
    "cos_trips.duplicated().sum()"
   ]
  },
  {
   "cell_type": "code",
   "execution_count": 9,
   "metadata": {},
   "outputs": [
    {
     "data": {
      "text/plain": [
       "0"
      ]
     },
     "execution_count": 9,
     "metadata": {},
     "output_type": "execute_result"
    }
   ],
   "source": [
    "drop_avg.duplicated().sum()"
   ]
  },
  {
   "cell_type": "code",
   "execution_count": 10,
   "metadata": {},
   "outputs": [
    {
     "data": {
      "text/plain": [
       "197"
      ]
     },
     "execution_count": 10,
     "metadata": {},
     "output_type": "execute_result"
    }
   ],
   "source": [
    "loop2ohare.duplicated().sum()"
   ]
  },
  {
   "cell_type": "code",
   "execution_count": 13,
   "metadata": {},
   "outputs": [
    {
     "name": "stdout",
     "output_type": "stream",
     "text": [
      "<class 'pandas.core.frame.DataFrame'>\n",
      "Int64Index: 865 entries, 0 to 1067\n",
      "Data columns (total 3 columns):\n",
      " #   Column              Non-Null Count  Dtype         \n",
      "---  ------              --------------  -----         \n",
      " 0   start_ts            865 non-null    datetime64[ns]\n",
      " 1   weather_conditions  865 non-null    object        \n",
      " 2   duration_seconds    865 non-null    float64       \n",
      "dtypes: datetime64[ns](1), float64(1), object(1)\n",
      "memory usage: 27.0+ KB\n"
     ]
    }
   ],
   "source": [
    "loop2ohare.drop_duplicates(inplace=True)\n",
    "loop2ohare.info()"
   ]
  },
  {
   "cell_type": "markdown",
   "metadata": {},
   "source": [
    "There were around 200 duplicates in the loop2ohare dataset.  While numerous rides could have begun in the same hour on the same day, it is doubtful they all had the exact same duration in seconds, even going from/to the same neighborhoods.  Therefore, we can reasonably remove these duplicates.  However, implicit duplicates are unlikely as the recorded weather should be the same in a given hour in a given location, so rides with different durations are most likely legitimate different rides."
   ]
  },
  {
   "cell_type": "code",
   "execution_count": 11,
   "metadata": {},
   "outputs": [
    {
     "data": {
      "text/plain": [
       "0"
      ]
     },
     "execution_count": 11,
     "metadata": {},
     "output_type": "execute_result"
    }
   ],
   "source": [
    "# Checking for Implicit Duplicates\n",
    "cos_trips.duplicated('company_name', keep=False).sum()"
   ]
  },
  {
   "cell_type": "code",
   "execution_count": 13,
   "metadata": {},
   "outputs": [
    {
     "data": {
      "text/plain": [
       "0"
      ]
     },
     "execution_count": 13,
     "metadata": {},
     "output_type": "execute_result"
    }
   ],
   "source": [
    "drop_avg.duplicated('dropoff_location_name', keep=False).sum()"
   ]
  },
  {
   "cell_type": "markdown",
   "metadata": {},
   "source": [
    "The data contains no duplicates and is ready for analysis of ride trends.  In the next section, I will identify and provide graphs of the most popular dropoff areas and cab companies with the largest presence in the Chicago to  draw conclusions about the existing taxi landscape.\n",
    "## Exploratory Analysis\n",
    "Using the datasets, I will begin by determining the most popular neighborhoods for dropoffs so Zuber can best allocate resources, market in prime areas, and optimize routes.\n",
    "\n",
    "### Top 10 Dropoff Areas"
   ]
  },
  {
   "cell_type": "code",
   "execution_count": 16,
   "metadata": {},
   "outputs": [
    {
     "data": {
      "text/html": [
       "<div>\n",
       "<style scoped>\n",
       "    .dataframe tbody tr th:only-of-type {\n",
       "        vertical-align: middle;\n",
       "    }\n",
       "\n",
       "    .dataframe tbody tr th {\n",
       "        vertical-align: top;\n",
       "    }\n",
       "\n",
       "    .dataframe thead th {\n",
       "        text-align: right;\n",
       "    }\n",
       "</style>\n",
       "<table border=\"1\" class=\"dataframe\">\n",
       "  <thead>\n",
       "    <tr style=\"text-align: right;\">\n",
       "      <th></th>\n",
       "      <th>dropoff_location_name</th>\n",
       "      <th>average_trips</th>\n",
       "    </tr>\n",
       "  </thead>\n",
       "  <tbody>\n",
       "    <tr>\n",
       "      <th>0</th>\n",
       "      <td>Loop</td>\n",
       "      <td>10727.466667</td>\n",
       "    </tr>\n",
       "    <tr>\n",
       "      <th>1</th>\n",
       "      <td>River North</td>\n",
       "      <td>9523.666667</td>\n",
       "    </tr>\n",
       "    <tr>\n",
       "      <th>2</th>\n",
       "      <td>Streeterville</td>\n",
       "      <td>6664.666667</td>\n",
       "    </tr>\n",
       "    <tr>\n",
       "      <th>3</th>\n",
       "      <td>West Loop</td>\n",
       "      <td>5163.666667</td>\n",
       "    </tr>\n",
       "    <tr>\n",
       "      <th>4</th>\n",
       "      <td>O'Hare</td>\n",
       "      <td>2546.900000</td>\n",
       "    </tr>\n",
       "    <tr>\n",
       "      <th>5</th>\n",
       "      <td>Lake View</td>\n",
       "      <td>2420.966667</td>\n",
       "    </tr>\n",
       "    <tr>\n",
       "      <th>6</th>\n",
       "      <td>Grant Park</td>\n",
       "      <td>2068.533333</td>\n",
       "    </tr>\n",
       "    <tr>\n",
       "      <th>7</th>\n",
       "      <td>Museum Campus</td>\n",
       "      <td>1510.000000</td>\n",
       "    </tr>\n",
       "    <tr>\n",
       "      <th>8</th>\n",
       "      <td>Gold Coast</td>\n",
       "      <td>1364.233333</td>\n",
       "    </tr>\n",
       "    <tr>\n",
       "      <th>9</th>\n",
       "      <td>Sheffield &amp; DePaul</td>\n",
       "      <td>1259.766667</td>\n",
       "    </tr>\n",
       "  </tbody>\n",
       "</table>\n",
       "</div>"
      ],
      "text/plain": [
       "  dropoff_location_name  average_trips\n",
       "0                  Loop   10727.466667\n",
       "1           River North    9523.666667\n",
       "2         Streeterville    6664.666667\n",
       "3             West Loop    5163.666667\n",
       "4                O'Hare    2546.900000\n",
       "5             Lake View    2420.966667\n",
       "6            Grant Park    2068.533333\n",
       "7         Museum Campus    1510.000000\n",
       "8            Gold Coast    1364.233333\n",
       "9    Sheffield & DePaul    1259.766667"
      ]
     },
     "execution_count": 16,
     "metadata": {},
     "output_type": "execute_result"
    }
   ],
   "source": [
    "top_10_drop = drop_avg.head(10)\n",
    "top_10_drop"
   ]
  },
  {
   "cell_type": "code",
   "execution_count": 17,
   "metadata": {},
   "outputs": [
    {
     "data": {
      "image/png": "[encoded data removed]",
      "text/plain": [
       "<Figure size 1200x500 with 1 Axes>"
      ]
     },
     "metadata": {},
     "output_type": "display_data"
    }
   ],
   "source": [
    "top_10_drop.plot(kind='bar', x='dropoff_location_name', y='average_trips', title='Top 10 Dropoff Areas by Average Trips in November 2017', xlabel='Neighborhood', ylabel='Average Number of Trips', figsize=[12, 5], rot=45, legend=False)\n",
    "plt.show()"
   ]
  },
  {
   "cell_type": "code",
   "execution_count": 18,
   "metadata": {},
   "outputs": [
    {
     "data": {
      "text/html": [
       "<div>\n",
       "<style scoped>\n",
       "    .dataframe tbody tr th:only-of-type {\n",
       "        vertical-align: middle;\n",
       "    }\n",
       "\n",
       "    .dataframe tbody tr th {\n",
       "        vertical-align: top;\n",
       "    }\n",
       "\n",
       "    .dataframe thead th {\n",
       "        text-align: right;\n",
       "    }\n",
       "</style>\n",
       "<table border=\"1\" class=\"dataframe\">\n",
       "  <thead>\n",
       "    <tr style=\"text-align: right;\">\n",
       "      <th></th>\n",
       "      <th>average_trips</th>\n",
       "    </tr>\n",
       "  </thead>\n",
       "  <tbody>\n",
       "    <tr>\n",
       "      <th>count</th>\n",
       "      <td>10.000000</td>\n",
       "    </tr>\n",
       "    <tr>\n",
       "      <th>mean</th>\n",
       "      <td>4324.986667</td>\n",
       "    </tr>\n",
       "    <tr>\n",
       "      <th>std</th>\n",
       "      <td>3530.183508</td>\n",
       "    </tr>\n",
       "    <tr>\n",
       "      <th>min</th>\n",
       "      <td>1259.766667</td>\n",
       "    </tr>\n",
       "    <tr>\n",
       "      <th>25%</th>\n",
       "      <td>1649.633333</td>\n",
       "    </tr>\n",
       "    <tr>\n",
       "      <th>50%</th>\n",
       "      <td>2483.933333</td>\n",
       "    </tr>\n",
       "    <tr>\n",
       "      <th>75%</th>\n",
       "      <td>6289.416667</td>\n",
       "    </tr>\n",
       "    <tr>\n",
       "      <th>max</th>\n",
       "      <td>10727.466667</td>\n",
       "    </tr>\n",
       "  </tbody>\n",
       "</table>\n",
       "</div>"
      ],
      "text/plain": [
       "       average_trips\n",
       "count      10.000000\n",
       "mean     4324.986667\n",
       "std      3530.183508\n",
       "min      1259.766667\n",
       "25%      1649.633333\n",
       "50%      2483.933333\n",
       "75%      6289.416667\n",
       "max     10727.466667"
      ]
     },
     "execution_count": 18,
     "metadata": {},
     "output_type": "execute_result"
    }
   ],
   "source": [
    "top_10_drop.describe()"
   ]
  },
  {
   "cell_type": "markdown",
   "metadata": {},
   "source": [
    "As Zuber plans for its launch in Chicago, the company should focus on promoting efficient and competitively-priced rides to downtown Chicago.  The top 10 destinations vary widely in volume, from Loop at over 10k trips to Sheffield & DePaul at around 10% of that number (1259).  The top 4 destinations (all in the greater downtown area) receive significantly more traffic than the other 6 destinations in the top 10.  Zuber should consider developing designated drop-off zones in the Loop, River North, Streeterville, and West Loop neighborhoods to ensure a safe and efficient experience for the large volume of customers that will likely request rides to this area based on extant taxi data.\n",
    "\n",
    "### Top Competitors\n",
    "Chicago already has over 60 taxi companies.  Knowledge of these competitors is crucial so Zuber can research ways to differentiate service, price competitively, and provide service that exceeds the quality these taxi companies currently provide."
   ]
  },
  {
   "cell_type": "code",
   "execution_count": 19,
   "metadata": {},
   "outputs": [
    {
     "data": {
      "text/html": [
       "<div>\n",
       "<style scoped>\n",
       "    .dataframe tbody tr th:only-of-type {\n",
       "        vertical-align: middle;\n",
       "    }\n",
       "\n",
       "    .dataframe tbody tr th {\n",
       "        vertical-align: top;\n",
       "    }\n",
       "\n",
       "    .dataframe thead th {\n",
       "        text-align: right;\n",
       "    }\n",
       "</style>\n",
       "<table border=\"1\" class=\"dataframe\">\n",
       "  <thead>\n",
       "    <tr style=\"text-align: right;\">\n",
       "      <th></th>\n",
       "      <th>company_name</th>\n",
       "      <th>trips_amount</th>\n",
       "    </tr>\n",
       "  </thead>\n",
       "  <tbody>\n",
       "    <tr>\n",
       "      <th>0</th>\n",
       "      <td>Flash Cab</td>\n",
       "      <td>19558</td>\n",
       "    </tr>\n",
       "    <tr>\n",
       "      <th>1</th>\n",
       "      <td>Taxi Affiliation Services</td>\n",
       "      <td>11422</td>\n",
       "    </tr>\n",
       "    <tr>\n",
       "      <th>2</th>\n",
       "      <td>Medallion Leasin</td>\n",
       "      <td>10367</td>\n",
       "    </tr>\n",
       "    <tr>\n",
       "      <th>3</th>\n",
       "      <td>Yellow Cab</td>\n",
       "      <td>9888</td>\n",
       "    </tr>\n",
       "    <tr>\n",
       "      <th>4</th>\n",
       "      <td>Taxi Affiliation Service Yellow</td>\n",
       "      <td>9299</td>\n",
       "    </tr>\n",
       "    <tr>\n",
       "      <th>5</th>\n",
       "      <td>Chicago Carriage Cab Corp</td>\n",
       "      <td>9181</td>\n",
       "    </tr>\n",
       "    <tr>\n",
       "      <th>6</th>\n",
       "      <td>City Service</td>\n",
       "      <td>8448</td>\n",
       "    </tr>\n",
       "    <tr>\n",
       "      <th>7</th>\n",
       "      <td>Sun Taxi</td>\n",
       "      <td>7701</td>\n",
       "    </tr>\n",
       "    <tr>\n",
       "      <th>8</th>\n",
       "      <td>Star North Management LLC</td>\n",
       "      <td>7455</td>\n",
       "    </tr>\n",
       "    <tr>\n",
       "      <th>9</th>\n",
       "      <td>Blue Ribbon Taxi Association Inc.</td>\n",
       "      <td>5953</td>\n",
       "    </tr>\n",
       "  </tbody>\n",
       "</table>\n",
       "</div>"
      ],
      "text/plain": [
       "                        company_name  trips_amount\n",
       "0                          Flash Cab         19558\n",
       "1          Taxi Affiliation Services         11422\n",
       "2                   Medallion Leasin         10367\n",
       "3                         Yellow Cab          9888\n",
       "4    Taxi Affiliation Service Yellow          9299\n",
       "5          Chicago Carriage Cab Corp          9181\n",
       "6                       City Service          8448\n",
       "7                           Sun Taxi          7701\n",
       "8          Star North Management LLC          7455\n",
       "9  Blue Ribbon Taxi Association Inc.          5953"
      ]
     },
     "execution_count": 19,
     "metadata": {},
     "output_type": "execute_result"
    }
   ],
   "source": [
    "top_cos = cos_trips.head(10)\n",
    "top_cos"
   ]
  },
  {
   "cell_type": "code",
   "execution_count": 20,
   "metadata": {},
   "outputs": [
    {
     "data": {
      "text/html": [
       "<div>\n",
       "<style scoped>\n",
       "    .dataframe tbody tr th:only-of-type {\n",
       "        vertical-align: middle;\n",
       "    }\n",
       "\n",
       "    .dataframe tbody tr th {\n",
       "        vertical-align: top;\n",
       "    }\n",
       "\n",
       "    .dataframe thead th {\n",
       "        text-align: right;\n",
       "    }\n",
       "</style>\n",
       "<table border=\"1\" class=\"dataframe\">\n",
       "  <thead>\n",
       "    <tr style=\"text-align: right;\">\n",
       "      <th></th>\n",
       "      <th>trips_amount</th>\n",
       "    </tr>\n",
       "  </thead>\n",
       "  <tbody>\n",
       "    <tr>\n",
       "      <th>count</th>\n",
       "      <td>10.000000</td>\n",
       "    </tr>\n",
       "    <tr>\n",
       "      <th>mean</th>\n",
       "      <td>9927.200000</td>\n",
       "    </tr>\n",
       "    <tr>\n",
       "      <th>std</th>\n",
       "      <td>3729.509703</td>\n",
       "    </tr>\n",
       "    <tr>\n",
       "      <th>min</th>\n",
       "      <td>5953.000000</td>\n",
       "    </tr>\n",
       "    <tr>\n",
       "      <th>25%</th>\n",
       "      <td>7887.750000</td>\n",
       "    </tr>\n",
       "    <tr>\n",
       "      <th>50%</th>\n",
       "      <td>9240.000000</td>\n",
       "    </tr>\n",
       "    <tr>\n",
       "      <th>75%</th>\n",
       "      <td>10247.250000</td>\n",
       "    </tr>\n",
       "    <tr>\n",
       "      <th>max</th>\n",
       "      <td>19558.000000</td>\n",
       "    </tr>\n",
       "  </tbody>\n",
       "</table>\n",
       "</div>"
      ],
      "text/plain": [
       "       trips_amount\n",
       "count     10.000000\n",
       "mean    9927.200000\n",
       "std     3729.509703\n",
       "min     5953.000000\n",
       "25%     7887.750000\n",
       "50%     9240.000000\n",
       "75%    10247.250000\n",
       "max    19558.000000"
      ]
     },
     "execution_count": 20,
     "metadata": {},
     "output_type": "execute_result"
    }
   ],
   "source": [
    "top_cos.describe()"
   ]
  },
  {
   "cell_type": "code",
   "execution_count": 21,
   "metadata": {},
   "outputs": [
    {
     "data": {
      "image/png": "[encoded data removed]",
      "text/plain": [
       "<Figure size 640x480 with 1 Axes>"
      ]
     },
     "metadata": {},
     "output_type": "display_data"
    }
   ],
   "source": [
    "top_cos.plot(kind='bar', x='company_name', y='trips_amount', legend=False)\n",
    "plt.title(\"Top 10 Taxi Companies' Total Trips, November 15-16, 2017\", y=1.08)\n",
    "plt.xlabel('Company')\n",
    "plt.ylabel('Total Trips')\n",
    "plt.show()"
   ]
  },
  {
   "cell_type": "code",
   "execution_count": 22,
   "metadata": {},
   "outputs": [
    {
     "data": {
      "image/png": "[encoded data removed]",
      "text/plain": [
       "<Figure size 640x480 with 1 Axes>"
      ]
     },
     "metadata": {},
     "output_type": "display_data"
    }
   ],
   "source": [
    "top_cos.plot(kind='pie', y='trips_amount', autopct='%1.1f%%', labels=top_cos['company_name'], legend=False, pctdistance=1.15, labeldistance=1.27, textprops={'size': 'smaller'})\n",
    "plt.title(\"Top 10 Taxi Companies' Market Share\", y=1.08)\n",
    "plt.ylabel('')\n",
    "plt.show()"
   ]
  },
  {
   "cell_type": "markdown",
   "metadata": {},
   "source": [
    "While there are several strong competitors in the Chicago taxi market, Flash Cab is clearly the strongest of the strong.  Boasting nearly 20k rides across two weekdays in November, or approximately 20% of the rides provided by the top 10 providers, Flash Cab is clearly doing something right.  Our team will need to evaluate Flash Cab's services to identify gaps where Zuber can provide superior innovation and strategize ways to market to this sizable demographic.  Taxi Affiliation Services (11k rides, 11.5% marketshare) and Medallion Leasin (10k rides, 10% marketshare) are also strong competitors in the Chicago marketplace.  Identifying differences in marketing strategy in comparison to Flash Cab will help Zuber to better align advertisement to consumer preferences.  Sun Taxi, Star North, and Blue Ribbon--as strong but less competitive services--may have logistics worth analyzing for weak points that Zuber should avoid to ensure it dominates the marketplace."
   ]
  },
  {
   "cell_type": "markdown",
   "metadata": {},
   "source": [
    "## Testing Hypotheses\n",
    "\n",
    "Do rainy days cause longer rides on Saturdays?  I will perform a statistical test using the loop2ohare data to evaluate the impact of rain on ride duration so Zuber will know how many drivers are needed to cover these routes efficiently.\n",
    "\n",
    "To test this hypothesis, I will use a typical alpha threshold of 0.05 to ensure any difference identified is statistically significant and worth rejecting the null hypothesis.  I am assuming the variances of populations on these days may not be equal due to the fact this data is from November, during which the major Thanksgiving holiday occurs, affecting the volume of traffic for the surrounding weekends and thereby having a potentially significant effect on the data groups, depending on the weather on those Saturdays.\n",
    "\n",
    "Null hypothesis: The average duration of rides from the Loop to O'Hare International Airport does not change on rainy Saturdays.\n",
    "\n",
    "Alternative hypothesis: The average duration of rides from the Loop to O'Hare International Airport changes on rainy Saturdays."
   ]
  },
  {
   "cell_type": "code",
   "execution_count": 34,
   "metadata": {},
   "outputs": [
    {
     "name": "stdout",
     "output_type": "stream",
     "text": [
      "p-value: 2.859195727873403e-07\n",
      "We reject the null hypothesis.\n",
      "Trips on rainy days averaged 2409 seconds.  Trips on days without rain averaged 2049 seconds.\n"
     ]
    }
   ],
   "source": [
    "rain = loop2ohare[loop2ohare['weather_conditions'] == 'Bad']\n",
    "no_rain = loop2ohare[loop2ohare['weather_conditions'] == 'Good']\n",
    "rain_trips = rain['duration_seconds'].values\n",
    "no_rain_trips = no_rain['duration_seconds'].values\n",
    "alpha = 0.05\n",
    "results = st.ttest_ind(rain_trips, no_rain_trips, equal_var=False)\n",
    "print('p-value:', results.pvalue)\n",
    "if results.pvalue < alpha:\n",
    "    print('We reject the null hypothesis.')\n",
    "else:\n",
    "    print('We cannot reject the null hypothesis.')\n",
    "rain_trips_mean = rain_trips.mean()\n",
    "nrt_mean = no_rain_trips.mean()\n",
    "print(f'Trips on rainy days averaged {rain_trips_mean:.0f} seconds.  Trips on days without rain averaged {nrt_mean:.0f} seconds.')"
   ]
  },
  {
   "cell_type": "markdown",
   "metadata": {},
   "source": [
    "There is a difference in trip length on rainy days versus days without rain.  On average, a trip on rainy days lasts 6 minutes longer than a trip on a day without rain... that can add up!  Zuber needs to ensure additional drivers are available on rainy Saturdays to help cover this route.\n",
    "\n",
    "# Conclusion\n",
    "\n",
    "This analysis will help Zuber identify additional areas to study and has provided some initial insights into passenger preferences and the impact of weather on services.  Zuber can use this information in correlation with additional inquiry to plan how to most strategically leverage our innovative technology in the competitive Chicago market.\n",
    "\n",
    "Analysis of popular drop-off areas revealed that the top destinations are concentrated in the greater downtown area, with Loop, River North, Streeterville, and West Loop being the most popular. These areas account for a significant volume of rides, indicating high demand for transportation services. Zuber should focus on these neighborhoods for resource allocation, marketing efforts, and route optimization to ensure a safe and efficient experience for customers.\n",
    "\n",
    "The Chicago taxi market is competitive, with over 60 taxi companies. Flash Cab stands out as the strongest competitor, providing nearly 20k rides across two weekdays in November. Other significant competitors include Taxi Affiliation Services and Medallion Leasin. Understanding the strengths and weaknesses of these competitors will help Zuber differentiate its services, price competitively, and attract customers. Analyzing logistics and marketing strategies of both top competitors and lesser competitors like Sun Taxi, Star North, and Blue Ribbon will provide insights for Zuber to provide an improved experience for passengers in Chicago.\n",
    "\n",
    "I also conducted a statistical test to evaluate the impact of rain on ride duration for trips from the Loop to O'Hare International Airport on Saturdays. The difference is statistically significant enough to reject the null hypothesis as rides on rainy days are, on average, 6 minutes longer than those on non-rainy days. Zuber should ensure additional drivers are available on rainy Saturdays to efficiently cover this route and meet increased demand.\n",
    "\n",
    "This analysis of existing cab companies, trip patterns, and weather impacts has provided initial insight into the transportation landscape of Chicago.  Additional inquiry based on this analysis will help Zuber prepare to launch successfully in Chicago by offering more efficient, competitively priced rides to passengers."
   ]
  }
 ],
 "metadata": {
  "ExecuteTimeLog": [
   {
    "duration": 4144,
    "start_time": "2024-07-04T04:00:57.737Z"
   },
   {
    "duration": 298,
    "start_time": "2024-07-04T04:02:32.208Z"
   },
   {
    "duration": 257,
    "start_time": "2024-07-04T04:02:39.370Z"
   },
   {
    "duration": 476,
    "start_time": "2024-07-04T04:03:37.198Z"
   },
   {
    "duration": 18,
    "start_time": "2024-07-04T04:04:00.869Z"
   },
   {
    "duration": 22,
    "start_time": "2024-07-04T04:04:06.870Z"
   },
   {
    "duration": 18,
    "start_time": "2024-07-04T04:04:32.159Z"
   },
   {
    "duration": 14,
    "start_time": "2024-07-04T04:04:45.105Z"
   },
   {
    "duration": 18,
    "start_time": "2024-07-04T04:13:16.084Z"
   },
   {
    "duration": 18,
    "start_time": "2024-07-04T04:13:45.174Z"
   },
   {
    "duration": 10,
    "start_time": "2024-07-04T04:15:46.586Z"
   },
   {
    "duration": 12,
    "start_time": "2024-07-04T04:16:51.790Z"
   },
   {
    "duration": 11,
    "start_time": "2024-07-04T04:31:29.163Z"
   },
   {
    "duration": 17,
    "start_time": "2024-07-04T04:31:44.867Z"
   },
   {
    "duration": 14,
    "start_time": "2024-07-04T04:31:52.476Z"
   },
   {
    "duration": 11,
    "start_time": "2024-07-04T04:32:25.877Z"
   },
   {
    "duration": 341,
    "start_time": "2024-07-04T04:45:25.737Z"
   },
   {
    "duration": 24,
    "start_time": "2024-07-04T04:46:01.018Z"
   },
   {
    "duration": 11,
    "start_time": "2024-07-04T05:06:59.798Z"
   },
   {
    "duration": 461,
    "start_time": "2024-07-04T05:08:32.119Z"
   },
   {
    "duration": 368,
    "start_time": "2024-07-04T05:09:15.960Z"
   },
   {
    "duration": 380,
    "start_time": "2024-07-04T05:09:34.497Z"
   },
   {
    "duration": 441,
    "start_time": "2024-07-04T05:10:42.494Z"
   },
   {
    "duration": 352,
    "start_time": "2024-07-04T05:11:21.975Z"
   },
   {
    "duration": 366,
    "start_time": "2024-07-04T05:11:31.812Z"
   },
   {
    "duration": 358,
    "start_time": "2024-07-04T05:11:52.374Z"
   },
   {
    "duration": 355,
    "start_time": "2024-07-04T05:12:07.029Z"
   },
   {
    "duration": 375,
    "start_time": "2024-07-04T05:13:31.725Z"
   },
   {
    "duration": 2742,
    "start_time": "2024-07-04T05:14:39.747Z"
   },
   {
    "duration": 396,
    "start_time": "2024-07-04T05:14:50.556Z"
   },
   {
    "duration": 27,
    "start_time": "2024-07-04T05:15:24.818Z"
   },
   {
    "duration": 374,
    "start_time": "2024-07-04T05:15:36.459Z"
   },
   {
    "duration": 450,
    "start_time": "2024-07-04T05:16:06.392Z"
   },
   {
    "duration": 269,
    "start_time": "2024-07-04T05:16:26.512Z"
   },
   {
    "duration": 955,
    "start_time": "2024-07-04T05:17:23.876Z"
   },
   {
    "duration": 243,
    "start_time": "2024-07-04T05:17:35.783Z"
   },
   {
    "duration": 241,
    "start_time": "2024-07-04T05:18:48.091Z"
   },
   {
    "duration": 245,
    "start_time": "2024-07-04T05:19:11.790Z"
   },
   {
    "duration": 232,
    "start_time": "2024-07-04T05:19:18.923Z"
   },
   {
    "duration": 236,
    "start_time": "2024-07-04T05:19:28.907Z"
   },
   {
    "duration": 248,
    "start_time": "2024-07-04T05:19:50.210Z"
   },
   {
    "duration": 230,
    "start_time": "2024-07-04T05:20:05.158Z"
   },
   {
    "duration": 235,
    "start_time": "2024-07-04T05:20:34.158Z"
   },
   {
    "duration": 242,
    "start_time": "2024-07-04T05:20:40.970Z"
   },
   {
    "duration": 245,
    "start_time": "2024-07-04T05:20:47.025Z"
   },
   {
    "duration": 256,
    "start_time": "2024-07-04T05:20:53.570Z"
   },
   {
    "duration": 256,
    "start_time": "2024-07-04T05:21:01.839Z"
   },
   {
    "duration": 266,
    "start_time": "2024-07-04T05:21:29.337Z"
   },
   {
    "duration": 396,
    "start_time": "2024-07-04T05:21:41.841Z"
   },
   {
    "duration": 281,
    "start_time": "2024-07-04T05:21:46.046Z"
   },
   {
    "duration": 309,
    "start_time": "2024-07-04T05:22:08.241Z"
   },
   {
    "duration": 298,
    "start_time": "2024-07-04T05:25:41.806Z"
   },
   {
    "duration": 283,
    "start_time": "2024-07-04T05:25:55.404Z"
   },
   {
    "duration": 322,
    "start_time": "2024-07-04T23:10:51.683Z"
   },
   {
    "duration": 4654,
    "start_time": "2024-07-04T23:11:03.482Z"
   },
   {
    "duration": 558,
    "start_time": "2024-07-04T23:11:08.140Z"
   },
   {
    "duration": 18,
    "start_time": "2024-07-04T23:11:08.701Z"
   },
   {
    "duration": 15,
    "start_time": "2024-07-04T23:11:08.722Z"
   },
   {
    "duration": 16,
    "start_time": "2024-07-04T23:11:08.741Z"
   },
   {
    "duration": 13,
    "start_time": "2024-07-04T23:11:08.760Z"
   },
   {
    "duration": 15,
    "start_time": "2024-07-04T23:11:08.776Z"
   },
   {
    "duration": 51,
    "start_time": "2024-07-04T23:11:08.794Z"
   },
   {
    "duration": 10,
    "start_time": "2024-07-04T23:11:08.848Z"
   },
   {
    "duration": 10,
    "start_time": "2024-07-04T23:11:08.862Z"
   },
   {
    "duration": 58,
    "start_time": "2024-07-04T23:11:08.875Z"
   },
   {
    "duration": 312,
    "start_time": "2024-07-04T23:11:08.937Z"
   },
   {
    "duration": 15,
    "start_time": "2024-07-04T23:11:09.252Z"
   },
   {
    "duration": 9,
    "start_time": "2024-07-04T23:11:09.274Z"
   },
   {
    "duration": 327,
    "start_time": "2024-07-04T23:11:09.287Z"
   },
   {
    "duration": 264,
    "start_time": "2024-07-04T23:11:09.617Z"
   },
   {
    "duration": 12,
    "start_time": "2024-07-04T23:11:53.874Z"
   },
   {
    "duration": 16,
    "start_time": "2024-07-04T23:12:03.242Z"
   },
   {
    "duration": 858,
    "start_time": "2024-07-04T23:31:04.902Z"
   },
   {
    "duration": 19,
    "start_time": "2024-07-04T23:31:31.669Z"
   },
   {
    "duration": 14,
    "start_time": "2024-07-04T23:31:44.147Z"
   },
   {
    "duration": 7,
    "start_time": "2024-07-04T23:42:16.875Z"
   },
   {
    "duration": 387,
    "start_time": "2024-07-04T23:42:36.098Z"
   },
   {
    "duration": 6,
    "start_time": "2024-07-04T23:43:23.713Z"
   },
   {
    "duration": 24,
    "start_time": "2024-07-04T23:43:39.113Z"
   },
   {
    "duration": 4,
    "start_time": "2024-07-04T23:44:34.306Z"
   },
   {
    "duration": 17,
    "start_time": "2024-07-04T23:45:27.673Z"
   },
   {
    "duration": 20,
    "start_time": "2024-07-04T23:45:42.040Z"
   },
   {
    "duration": 23,
    "start_time": "2024-07-04T23:45:48.165Z"
   },
   {
    "duration": 16,
    "start_time": "2024-07-04T23:46:49.777Z"
   },
   {
    "duration": 4826,
    "start_time": "2024-07-05T00:31:21.920Z"
   },
   {
    "duration": 831,
    "start_time": "2024-07-05T00:31:26.749Z"
   },
   {
    "duration": 16,
    "start_time": "2024-07-05T00:31:27.583Z"
   },
   {
    "duration": 17,
    "start_time": "2024-07-05T00:31:27.603Z"
   },
   {
    "duration": 15,
    "start_time": "2024-07-05T00:31:27.625Z"
   },
   {
    "duration": 16,
    "start_time": "2024-07-05T00:31:27.644Z"
   },
   {
    "duration": 19,
    "start_time": "2024-07-05T00:31:27.702Z"
   },
   {
    "duration": 14,
    "start_time": "2024-07-05T00:31:27.724Z"
   },
   {
    "duration": 18,
    "start_time": "2024-07-05T00:31:27.741Z"
   },
   {
    "duration": 16,
    "start_time": "2024-07-05T00:31:27.801Z"
   },
   {
    "duration": 15,
    "start_time": "2024-07-05T00:31:27.820Z"
   },
   {
    "duration": 17,
    "start_time": "2024-07-05T00:31:27.837Z"
   },
   {
    "duration": 50,
    "start_time": "2024-07-05T00:31:27.856Z"
   },
   {
    "duration": 10,
    "start_time": "2024-07-05T00:31:27.913Z"
   },
   {
    "duration": 10,
    "start_time": "2024-07-05T00:31:27.926Z"
   },
   {
    "duration": 364,
    "start_time": "2024-07-05T00:31:27.940Z"
   },
   {
    "duration": 16,
    "start_time": "2024-07-05T00:31:28.310Z"
   },
   {
    "duration": 10,
    "start_time": "2024-07-05T00:31:28.330Z"
   },
   {
    "duration": 15,
    "start_time": "2024-07-05T00:31:28.343Z"
   },
   {
    "duration": 328,
    "start_time": "2024-07-05T00:31:28.362Z"
   },
   {
    "duration": 289,
    "start_time": "2024-07-05T00:31:28.693Z"
   },
   {
    "duration": 1779,
    "start_time": "2024-07-05T00:36:38.207Z"
   },
   {
    "duration": 5,
    "start_time": "2024-07-05T00:37:09.268Z"
   },
   {
    "duration": 816,
    "start_time": "2024-07-05T00:37:09.278Z"
   },
   {
    "duration": 13,
    "start_time": "2024-07-05T00:37:10.097Z"
   },
   {
    "duration": 15,
    "start_time": "2024-07-05T00:37:10.114Z"
   },
   {
    "duration": 13,
    "start_time": "2024-07-05T00:37:10.132Z"
   },
   {
    "duration": 13,
    "start_time": "2024-07-05T00:37:10.148Z"
   },
   {
    "duration": 16,
    "start_time": "2024-07-05T00:37:10.202Z"
   },
   {
    "duration": 13,
    "start_time": "2024-07-05T00:37:10.221Z"
   },
   {
    "duration": 16,
    "start_time": "2024-07-05T00:37:10.238Z"
   },
   {
    "duration": 72,
    "start_time": "2024-07-05T00:37:10.301Z"
   },
   {
    "duration": 0,
    "start_time": "2024-07-05T00:37:10.376Z"
   },
   {
    "duration": 0,
    "start_time": "2024-07-05T00:37:10.378Z"
   },
   {
    "duration": 0,
    "start_time": "2024-07-05T00:37:10.380Z"
   },
   {
    "duration": 0,
    "start_time": "2024-07-05T00:37:10.403Z"
   },
   {
    "duration": 0,
    "start_time": "2024-07-05T00:37:10.405Z"
   },
   {
    "duration": 0,
    "start_time": "2024-07-05T00:37:10.407Z"
   },
   {
    "duration": 0,
    "start_time": "2024-07-05T00:37:10.409Z"
   },
   {
    "duration": 0,
    "start_time": "2024-07-05T00:37:10.411Z"
   },
   {
    "duration": 0,
    "start_time": "2024-07-05T00:37:10.413Z"
   },
   {
    "duration": 0,
    "start_time": "2024-07-05T00:37:10.417Z"
   },
   {
    "duration": 0,
    "start_time": "2024-07-05T00:37:10.418Z"
   },
   {
    "duration": 0,
    "start_time": "2024-07-05T00:37:10.421Z"
   },
   {
    "duration": 67,
    "start_time": "2024-07-05T00:37:18.899Z"
   },
   {
    "duration": 17,
    "start_time": "2024-07-05T00:38:45.438Z"
   },
   {
    "duration": 15,
    "start_time": "2024-07-05T00:39:54.288Z"
   },
   {
    "duration": 4811,
    "start_time": "2024-07-05T03:03:21.534Z"
   },
   {
    "duration": 796,
    "start_time": "2024-07-05T03:03:26.350Z"
   },
   {
    "duration": 17,
    "start_time": "2024-07-05T03:03:27.149Z"
   },
   {
    "duration": 15,
    "start_time": "2024-07-05T03:03:27.170Z"
   },
   {
    "duration": 15,
    "start_time": "2024-07-05T03:03:27.188Z"
   },
   {
    "duration": 13,
    "start_time": "2024-07-05T03:03:27.206Z"
   },
   {
    "duration": 16,
    "start_time": "2024-07-05T03:03:27.222Z"
   },
   {
    "duration": 15,
    "start_time": "2024-07-05T03:03:27.241Z"
   },
   {
    "duration": 20,
    "start_time": "2024-07-05T03:03:27.302Z"
   },
   {
    "duration": 16,
    "start_time": "2024-07-05T03:03:27.328Z"
   },
   {
    "duration": 16,
    "start_time": "2024-07-05T03:03:27.347Z"
   },
   {
    "duration": 15,
    "start_time": "2024-07-05T03:03:27.401Z"
   },
   {
    "duration": 16,
    "start_time": "2024-07-05T03:03:27.419Z"
   },
   {
    "duration": 10,
    "start_time": "2024-07-05T03:03:27.438Z"
   },
   {
    "duration": 52,
    "start_time": "2024-07-05T03:03:27.451Z"
   },
   {
    "duration": 10,
    "start_time": "2024-07-05T03:03:27.506Z"
   },
   {
    "duration": 339,
    "start_time": "2024-07-05T03:03:27.519Z"
   },
   {
    "duration": 14,
    "start_time": "2024-07-05T03:03:27.862Z"
   },
   {
    "duration": 30,
    "start_time": "2024-07-05T03:03:27.879Z"
   },
   {
    "duration": 15,
    "start_time": "2024-07-05T03:03:27.912Z"
   },
   {
    "duration": 317,
    "start_time": "2024-07-05T03:03:27.930Z"
   },
   {
    "duration": 276,
    "start_time": "2024-07-05T03:03:28.250Z"
   },
   {
    "duration": 38,
    "start_time": "2024-07-05T03:05:46.497Z"
   },
   {
    "duration": 10,
    "start_time": "2024-07-05T03:06:14.409Z"
   },
   {
    "duration": 12,
    "start_time": "2024-07-05T03:07:32.364Z"
   },
   {
    "duration": 7,
    "start_time": "2024-07-05T03:14:43.119Z"
   },
   {
    "duration": 398,
    "start_time": "2024-07-05T03:17:20.635Z"
   },
   {
    "duration": 11,
    "start_time": "2024-07-05T03:17:26.493Z"
   },
   {
    "duration": 11,
    "start_time": "2024-07-05T03:17:53.076Z"
   },
   {
    "duration": 33,
    "start_time": "2024-07-05T03:17:59.141Z"
   },
   {
    "duration": 10,
    "start_time": "2024-07-05T03:18:06.970Z"
   },
   {
    "duration": 12,
    "start_time": "2024-07-05T03:18:12.058Z"
   },
   {
    "duration": 10,
    "start_time": "2024-07-05T03:18:37.893Z"
   },
   {
    "duration": 11,
    "start_time": "2024-07-05T03:40:17.960Z"
   },
   {
    "duration": 326,
    "start_time": "2024-07-06T01:01:45.996Z"
   },
   {
    "duration": 5060,
    "start_time": "2024-07-06T01:01:50.014Z"
   },
   {
    "duration": 1437,
    "start_time": "2024-07-06T01:01:55.077Z"
   },
   {
    "duration": 25,
    "start_time": "2024-07-06T01:02:05.120Z"
   },
   {
    "duration": 797,
    "start_time": "2024-07-06T01:02:46.575Z"
   },
   {
    "duration": 26,
    "start_time": "2024-07-06T01:02:51.957Z"
   },
   {
    "duration": 17,
    "start_time": "2024-07-06T01:02:54.679Z"
   },
   {
    "duration": 8,
    "start_time": "2024-07-06T01:06:00.753Z"
   },
   {
    "duration": 8,
    "start_time": "2024-07-06T01:06:34.028Z"
   },
   {
    "duration": 14,
    "start_time": "2024-07-06T01:06:48.309Z"
   },
   {
    "duration": 8,
    "start_time": "2024-07-06T01:08:20.943Z"
   },
   {
    "duration": 8,
    "start_time": "2024-07-06T01:09:26.021Z"
   },
   {
    "duration": 9,
    "start_time": "2024-07-06T01:09:49.547Z"
   }
  ],
  "kernelspec": {
   "display_name": "Python 3 (ipykernel)",
   "language": "python",
   "name": "python3"
  },
  "language_info": {
   "codemirror_mode": {
    "name": "ipython",
    "version": 3
   },
   "file_extension": ".py",
   "mimetype": "text/x-python",
   "name": "python",
   "nbconvert_exporter": "python",
   "pygments_lexer": "ipython3",
   "version": "3.9.19"
  },
  "toc": {
   "base_numbering": 1,
   "nav_menu": {},
   "number_sections": true,
   "sideBar": true,
   "skip_h1_title": true,
   "title_cell": "Table of Contents",
   "title_sidebar": "Contents",
   "toc_cell": false,
   "toc_position": {},
   "toc_section_display": true,
   "toc_window_display": false
  }
 },
 "nbformat": 4,
 "nbformat_minor": 2
}
